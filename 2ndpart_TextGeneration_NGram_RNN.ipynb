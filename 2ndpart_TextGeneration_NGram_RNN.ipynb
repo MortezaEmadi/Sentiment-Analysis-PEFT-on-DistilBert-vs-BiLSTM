{
  "nbformat": 4,
  "nbformat_minor": 0,
  "metadata": {
    "colab": {
      "provenance": [],
      "gpuType": "T4"
    },
    "kernelspec": {
      "name": "python3",
      "display_name": "Python 3"
    },
    "language_info": {
      "name": "python"
    }
  },
  "cells": [
    {
      "cell_type": "code",
      "source": [
        "%%bash\n",
        "pip install unidecode"
      ],
      "metadata": {
        "colab": {
          "base_uri": "https://localhost:8080/"
        },
        "id": "C1UIgDRduliN",
        "outputId": "fb9f9bce-3e7c-4ee2-930c-22043de721ad"
      },
      "execution_count": null,
      "outputs": [
        {
          "output_type": "stream",
          "name": "stdout",
          "text": [
            "Collecting unidecode\n",
            "  Downloading Unidecode-1.3.6-py3-none-any.whl (235 kB)\n",
            "     ━━━━━━━━━━━━━━━━━━━━━━━━━━━━━━━━━━━━━━━ 235.9/235.9 kB 5.4 MB/s eta 0:00:00\n",
            "Installing collected packages: unidecode\n",
            "Successfully installed unidecode-1.3.6\n"
          ]
        }
      ]
    },
    {
      "cell_type": "code",
      "execution_count": null,
      "metadata": {
        "id": "XqmamSeysy3i"
      },
      "outputs": [],
      "source": [
        "import math\n",
        "import time\n",
        "import nltk\n",
        "import torch\n",
        "import string\n",
        "import random\n",
        "import unidecode\n",
        "import numpy as np\n",
        "import pandas as pd\n",
        "import torch.nn as nn\n",
        "from google.colab import drive\n",
        "import matplotlib.pyplot as plt\n",
        "import matplotlib.ticker as ticker\n",
        "from torch.autograd import Variable"
      ]
    },
    {
      "cell_type": "code",
      "source": [
        "nltk.download('stopwords')\n",
        "nltk.download('wordnet')"
      ],
      "metadata": {
        "colab": {
          "base_uri": "https://localhost:8080/"
        },
        "id": "cWVlEwO5yRkX",
        "outputId": "a8aae0b2-1095-4bce-f2b8-dbb12c87e305"
      },
      "execution_count": null,
      "outputs": [
        {
          "output_type": "stream",
          "name": "stderr",
          "text": [
            "[nltk_data] Downloading package stopwords to /root/nltk_data...\n",
            "[nltk_data]   Unzipping corpora/stopwords.zip.\n",
            "[nltk_data] Downloading package wordnet to /root/nltk_data...\n"
          ]
        },
        {
          "output_type": "execute_result",
          "data": {
            "text/plain": [
              "True"
            ]
          },
          "metadata": {},
          "execution_count": 3
        }
      ]
    },
    {
      "cell_type": "code",
      "source": [
        "drive.mount('/content/drive')"
      ],
      "metadata": {
        "colab": {
          "base_uri": "https://localhost:8080/"
        },
        "id": "9accJ7ZmSEEo",
        "outputId": "ec38416f-11ba-4280-f6eb-9a812ea2347e"
      },
      "execution_count": null,
      "outputs": [
        {
          "output_type": "stream",
          "name": "stdout",
          "text": [
            "Mounted at /content/drive\n"
          ]
        }
      ]
    },
    {
      "cell_type": "code",
      "source": [
        "train_on_gpu = torch.cuda.is_available()\n",
        "if(train_on_gpu):\n",
        "    print('Training on GPU!')\n",
        "else:\n",
        "    print('No GPU available, training on CPU; consider making n_epochs very small.')"
      ],
      "metadata": {
        "colab": {
          "base_uri": "https://localhost:8080/"
        },
        "id": "AGpTtik6ufsW",
        "outputId": "ae42187a-0c67-45bd-bd57-b236fe2bada1"
      },
      "execution_count": null,
      "outputs": [
        {
          "output_type": "stream",
          "name": "stdout",
          "text": [
            "No GPU available, training on CPU; consider making n_epochs very small.\n"
          ]
        }
      ]
    },
    {
      "cell_type": "markdown",
      "source": [
        "# Setup:\n",
        "\n",
        "```\n",
        "# This is formatted as code\n",
        "```\n",
        "\n"
      ],
      "metadata": {
        "id": "n6VTjzOKzZ4c"
      }
    },
    {
      "cell_type": "code",
      "source": [
        "# @title Set device (GPU or CPU). Execute `set_device()`\n",
        "# especially if torch modules used.\n",
        "\n",
        "# Inform the user if the notebook uses GPU or CPU.\n",
        "\n",
        "def set_device():\n",
        "  \"\"\"\n",
        "  Set the device. CUDA if available, CPU otherwise\n",
        "\n",
        "  Args:\n",
        "    None\n",
        "\n",
        "  Returns:\n",
        "    Nothing\n",
        "  \"\"\"\n",
        "  device = \"cuda\" if torch.cuda.is_available() else \"cpu\"\n",
        "  if device != \"cuda\":\n",
        "    print(\"GPU is not enabled in this notebook. \\n\"\n",
        "          \"If you want to enable it, in the menu under `Runtime` -> \\n\"\n",
        "          \"`Hardware accelerator.` and select `GPU` from the dropdown menu\")\n",
        "  else:\n",
        "    print(\"GPU is enabled in this notebook. \\n\"\n",
        "          \"If you want to disable it, in the menu under `Runtime` -> \\n\"\n",
        "          \"`Hardware accelerator.` and select `None` from the dropdown menu\")\n",
        "\n",
        "  return device"
      ],
      "metadata": {
        "id": "se3A5YDxO6pK"
      },
      "execution_count": null,
      "outputs": []
    },
    {
      "cell_type": "code",
      "source": [
        "DEVICE = set_device()\n",
        "DEVICE"
      ],
      "metadata": {
        "colab": {
          "base_uri": "https://localhost:8080/",
          "height": 87
        },
        "id": "xnBlztuKO0iq",
        "outputId": "4c6bce5b-19c5-4646-f869-fd7f37555f34"
      },
      "execution_count": null,
      "outputs": [
        {
          "output_type": "stream",
          "name": "stdout",
          "text": [
            "GPU is not enabled in this notebook. \n",
            "If you want to enable it, in the menu under `Runtime` -> \n",
            "`Hardware accelerator.` and select `GPU` from the dropdown menu\n"
          ]
        },
        {
          "output_type": "execute_result",
          "data": {
            "text/plain": [
              "'cpu'"
            ],
            "application/vnd.google.colaboratory.intrinsic+json": {
              "type": "string"
            }
          },
          "metadata": {},
          "execution_count": 7
        }
      ]
    },
    {
      "cell_type": "markdown",
      "source": [
        "## Define RNN Module"
      ],
      "metadata": {
        "id": "9CPu5EK412-m"
      }
    },
    {
      "cell_type": "code",
      "source": [
        "class RNN(nn.Module):\n",
        "    def __init__(self, input_size, hidden_size, output_size, n_layers=1):\n",
        "        super(RNN, self).__init__()\n",
        "        self.input_size = input_size\n",
        "        self.hidden_size = hidden_size\n",
        "        self.output_size = output_size\n",
        "        self.n_layers = n_layers\n",
        "\n",
        "        self.encoder = nn.Embedding(input_size, hidden_size)\n",
        "        self.gru = nn.GRU(hidden_size*2, hidden_size, n_layers,batch_first=True,\n",
        "                          bidirectional=False)\n",
        "        self.decoder = nn.Linear(hidden_size, output_size)\n",
        "\n",
        "    def forward(self, input, hidden):\n",
        "        input = self.encoder(input.view(1, -1))\n",
        "        output, hidden = self.gru(input.view(1, 1, -1), hidden)\n",
        "        output = self.decoder(output.view(1, -1))\n",
        "        return output, hidden\n",
        "\n",
        "    def init_hidden(self):\n",
        "        return Variable(torch.zeros(self.n_layers, 1, self.hidden_size))"
      ],
      "metadata": {
        "id": "2MQy9BoYyzBV"
      },
      "execution_count": null,
      "outputs": []
    },
    {
      "cell_type": "code",
      "source": [
        "# torch.onnx.export(model, X_test, 'iris.onnx', input_names=[\"features\"], output_names=[\"logits\"])\n",
        "# torch.onnx.export(model, 'iris.onnx')"
      ],
      "metadata": {
        "id": "roX1_ohmGt-8"
      },
      "execution_count": null,
      "outputs": []
    },
    {
      "cell_type": "markdown",
      "source": [
        "## Helper funcions"
      ],
      "metadata": {
        "id": "MzuCoc0h2QOZ"
      }
    },
    {
      "cell_type": "code",
      "source": [
        "def time_since(since):\n",
        "    s = time.time() - since\n",
        "    m = math.floor(s / 60)\n",
        "    s -= m * 60\n",
        "    return '%dm %ds' % (m, s)"
      ],
      "metadata": {
        "id": "d7FTsq1j1ejJ"
      },
      "execution_count": null,
      "outputs": []
    },
    {
      "cell_type": "code",
      "source": [
        "def train(inp, target):\n",
        "    # hidden = decoder.init_hidden().cuda()\n",
        "    hidden = decoder.init_hidden().to(DEVICE)\n",
        "    decoder.zero_grad()\n",
        "    loss = 0\n",
        "\n",
        "    for c in range(chunk_len):\n",
        "        # output, hidden = decoder(inp[c].cuda(), hidden)\n",
        "        # loss += criterion(output, target[c].cuda())\n",
        "        output, hidden = decoder(inp[c].to(DEVICE), hidden)\n",
        "        loss += criterion(output, target[c].to(DEVICE))\n",
        "\n",
        "    loss.backward()\n",
        "    decoder_optimizer.step()\n",
        "\n",
        "    return loss.data.item() / chunk_len"
      ],
      "metadata": {
        "id": "amMOiWLbzmWT"
      },
      "execution_count": null,
      "outputs": []
    },
    {
      "cell_type": "markdown",
      "source": [
        "Text Generation:"
      ],
      "metadata": {
        "id": "--2GvtYI21s2"
      }
    },
    {
      "cell_type": "code",
      "source": [
        "def evaluate(prime_str='this process', predict_len=100, temperature=0.8):\n",
        "    # hidden = decoder.init_hidden().cuda()\n",
        "    hidden = decoder.init_hidden().to(DEVICE)\n",
        "\n",
        "    for p in range(predict_len):\n",
        "\n",
        "        # prime_input = torch.tensor([word_to_ix[w] for w in prime_str.split()], dtype=torch.long).cuda()\n",
        "        prime_input = torch.tensor([word_to_ix[w] for w in prime_str.split()], dtype=torch.long).to(DEVICE)\n",
        "        inp = prime_input[-2:] #last two words as input\n",
        "        output, hidden = decoder(inp, hidden)\n",
        "\n",
        "        # Sample from the network as a multinomial distribution\n",
        "        output_dist = output.data.view(-1).div(temperature).exp()\n",
        "        top_i = torch.multinomial(output_dist, 1)[0]\n",
        "\n",
        "        # Add predicted word to string and use as next input\n",
        "        predicted_word = list(word_to_ix.keys())[list(word_to_ix.values()).index(top_i)]\n",
        "        prime_str += \" \" + predicted_word\n",
        "        # inp = torch.tensor(word_to_ix[predicted_word], dtype=torch.long)\n",
        "\n",
        "    return prime_str"
      ],
      "metadata": {
        "id": "QoyhL4DR2z3D"
      },
      "execution_count": null,
      "outputs": []
    },
    {
      "cell_type": "markdown",
      "source": [
        "# Dataset:"
      ],
      "metadata": {
        "id": "AjS3fs2h1fKU"
      }
    },
    {
      "cell_type": "code",
      "source": [
        "def data_loader(path):\n",
        "  data = pd.read_csv(path)\n",
        "  return data"
      ],
      "metadata": {
        "id": "YjrEeB0dvSY6"
      },
      "execution_count": null,
      "outputs": []
    },
    {
      "cell_type": "code",
      "source": [
        "def text_selector(data):\n",
        "\n",
        "  l = len(data)\n",
        "\n",
        "  data_text = data['text']\n",
        "  data_label = data['label']\n",
        "\n",
        "  semantic = ''\n",
        "  training_data =[]\n",
        "\n",
        "  for i in range(l):\n",
        "\n",
        "    if data_label[i] == 1:\n",
        "      semantic = 'positive '\n",
        "      data_string_i = data_text[i].replace(\"USER\", \"\")\n",
        "      # e = data_string_i.split(\"  \")\n",
        "      # training_data.append(semantic + e[-1])\n",
        "      training_data.append(semantic + data_string_i)\n",
        "\n",
        "    else:\n",
        "      semantic = 'negative '\n",
        "      data_string_i = data_text[i].replace(\"USER\", \"\")\n",
        "      # e = data_string_i.split(\"  \")\n",
        "      # training_data.append(semantic + e[-1])\n",
        "      training_data.append(semantic + data_string_i)\n",
        "\n",
        "  text_data = ' '.join(training_data)\n",
        "  return text_data"
      ],
      "metadata": {
        "id": "2YfZRyoeQ26V"
      },
      "execution_count": null,
      "outputs": []
    },
    {
      "cell_type": "code",
      "source": [
        "def clean_text(text):\n",
        "  stop = set(nltk.corpus.stopwords.words('english'))\n",
        "  exclude = set(string.punctuation)\n",
        "  lemma = nltk.stem.wordnet.WordNetLemmatizer()\n",
        "\n",
        "  def clean(doc):\n",
        "        stop_free = \" \".join([i for i in doc.split() if i not in stop])\n",
        "        punc_free = \"\".join(ch for ch in stop_free if ch not in exclude)\n",
        "        normalized = \" \".join(lemma.lemmatize(word) for word in punc_free.split())\n",
        "        return normalized\n",
        "  test_sentence = clean(text).lower().split()\n",
        "  return test_sentence"
      ],
      "metadata": {
        "id": "x_5qdGv5xLFW"
      },
      "execution_count": null,
      "outputs": []
    },
    {
      "cell_type": "code",
      "source": [
        "# loading the dataset:\n",
        "\n",
        "# drive.mount('/content/drive')\n",
        "\n",
        "train_path = \"/content/drive/MyDrive/Code/dataset_full/train_split.csv\"\n",
        "val_path = \"/content/drive/MyDrive/Code/dataset_full/val_split.csv\"\n",
        "test_path = \"/content/drive/MyDrive/Code/dataset_full/test_cleaned.csv\"\n",
        "\n",
        "train_data = data_loader(train_path)\n",
        "val_data = data_loader(val_path)\n",
        "test_data = data_loader(test_path)"
      ],
      "metadata": {
        "id": "QATv7ptYFFHX"
      },
      "execution_count": null,
      "outputs": []
    },
    {
      "cell_type": "code",
      "source": [
        "data_d = pd.read_csv(train_path)\n",
        "data_d.head()"
      ],
      "metadata": {
        "colab": {
          "base_uri": "https://localhost:8080/",
          "height": 206
        },
        "id": "OvNfAKbILG2f",
        "outputId": "81264854-4fa0-4a78-c98c-799f1caded2f"
      },
      "execution_count": null,
      "outputs": [
        {
          "output_type": "execute_result",
          "data": {
            "text/plain": [
              "                                                text  label\n",
              "0                                   USER ahh closed       0\n",
              "1    awesome lunch mom amp bro yummy sushi amp udon       1\n",
              "2  imisscath imisscath imisscath imisscath imissc...      0\n",
              "3                   USER good morning beautiful one       1\n",
              "4  cracked open first chapter something old new t...      1"
            ],
            "text/html": [
              "\n",
              "  <div id=\"df-f998991b-6f26-4571-9687-e49696e7d14f\" class=\"colab-df-container\">\n",
              "    <div>\n",
              "<style scoped>\n",
              "    .dataframe tbody tr th:only-of-type {\n",
              "        vertical-align: middle;\n",
              "    }\n",
              "\n",
              "    .dataframe tbody tr th {\n",
              "        vertical-align: top;\n",
              "    }\n",
              "\n",
              "    .dataframe thead th {\n",
              "        text-align: right;\n",
              "    }\n",
              "</style>\n",
              "<table border=\"1\" class=\"dataframe\">\n",
              "  <thead>\n",
              "    <tr style=\"text-align: right;\">\n",
              "      <th></th>\n",
              "      <th>text</th>\n",
              "      <th>label</th>\n",
              "    </tr>\n",
              "  </thead>\n",
              "  <tbody>\n",
              "    <tr>\n",
              "      <th>0</th>\n",
              "      <td>USER ahh closed</td>\n",
              "      <td>0</td>\n",
              "    </tr>\n",
              "    <tr>\n",
              "      <th>1</th>\n",
              "      <td>awesome lunch mom amp bro yummy sushi amp udon</td>\n",
              "      <td>1</td>\n",
              "    </tr>\n",
              "    <tr>\n",
              "      <th>2</th>\n",
              "      <td>imisscath imisscath imisscath imisscath imissc...</td>\n",
              "      <td>0</td>\n",
              "    </tr>\n",
              "    <tr>\n",
              "      <th>3</th>\n",
              "      <td>USER good morning beautiful one</td>\n",
              "      <td>1</td>\n",
              "    </tr>\n",
              "    <tr>\n",
              "      <th>4</th>\n",
              "      <td>cracked open first chapter something old new t...</td>\n",
              "      <td>1</td>\n",
              "    </tr>\n",
              "  </tbody>\n",
              "</table>\n",
              "</div>\n",
              "    <div class=\"colab-df-buttons\">\n",
              "\n",
              "  <div class=\"colab-df-container\">\n",
              "    <button class=\"colab-df-convert\" onclick=\"convertToInteractive('df-f998991b-6f26-4571-9687-e49696e7d14f')\"\n",
              "            title=\"Convert this dataframe to an interactive table.\"\n",
              "            style=\"display:none;\">\n",
              "\n",
              "  <svg xmlns=\"http://www.w3.org/2000/svg\" height=\"24px\" viewBox=\"0 -960 960 960\">\n",
              "    <path d=\"M120-120v-720h720v720H120Zm60-500h600v-160H180v160Zm220 220h160v-160H400v160Zm0 220h160v-160H400v160ZM180-400h160v-160H180v160Zm440 0h160v-160H620v160ZM180-180h160v-160H180v160Zm440 0h160v-160H620v160Z\"/>\n",
              "  </svg>\n",
              "    </button>\n",
              "\n",
              "  <style>\n",
              "    .colab-df-container {\n",
              "      display:flex;\n",
              "      gap: 12px;\n",
              "    }\n",
              "\n",
              "    .colab-df-convert {\n",
              "      background-color: #E8F0FE;\n",
              "      border: none;\n",
              "      border-radius: 50%;\n",
              "      cursor: pointer;\n",
              "      display: none;\n",
              "      fill: #1967D2;\n",
              "      height: 32px;\n",
              "      padding: 0 0 0 0;\n",
              "      width: 32px;\n",
              "    }\n",
              "\n",
              "    .colab-df-convert:hover {\n",
              "      background-color: #E2EBFA;\n",
              "      box-shadow: 0px 1px 2px rgba(60, 64, 67, 0.3), 0px 1px 3px 1px rgba(60, 64, 67, 0.15);\n",
              "      fill: #174EA6;\n",
              "    }\n",
              "\n",
              "    .colab-df-buttons div {\n",
              "      margin-bottom: 4px;\n",
              "    }\n",
              "\n",
              "    [theme=dark] .colab-df-convert {\n",
              "      background-color: #3B4455;\n",
              "      fill: #D2E3FC;\n",
              "    }\n",
              "\n",
              "    [theme=dark] .colab-df-convert:hover {\n",
              "      background-color: #434B5C;\n",
              "      box-shadow: 0px 1px 3px 1px rgba(0, 0, 0, 0.15);\n",
              "      filter: drop-shadow(0px 1px 2px rgba(0, 0, 0, 0.3));\n",
              "      fill: #FFFFFF;\n",
              "    }\n",
              "  </style>\n",
              "\n",
              "    <script>\n",
              "      const buttonEl =\n",
              "        document.querySelector('#df-f998991b-6f26-4571-9687-e49696e7d14f button.colab-df-convert');\n",
              "      buttonEl.style.display =\n",
              "        google.colab.kernel.accessAllowed ? 'block' : 'none';\n",
              "\n",
              "      async function convertToInteractive(key) {\n",
              "        const element = document.querySelector('#df-f998991b-6f26-4571-9687-e49696e7d14f');\n",
              "        const dataTable =\n",
              "          await google.colab.kernel.invokeFunction('convertToInteractive',\n",
              "                                                    [key], {});\n",
              "        if (!dataTable) return;\n",
              "\n",
              "        const docLinkHtml = 'Like what you see? Visit the ' +\n",
              "          '<a target=\"_blank\" href=https://colab.research.google.com/notebooks/data_table.ipynb>data table notebook</a>'\n",
              "          + ' to learn more about interactive tables.';\n",
              "        element.innerHTML = '';\n",
              "        dataTable['output_type'] = 'display_data';\n",
              "        await google.colab.output.renderOutput(dataTable, element);\n",
              "        const docLink = document.createElement('div');\n",
              "        docLink.innerHTML = docLinkHtml;\n",
              "        element.appendChild(docLink);\n",
              "      }\n",
              "    </script>\n",
              "  </div>\n",
              "\n",
              "\n",
              "<div id=\"df-e587f3b2-d301-4879-8095-22ed28239088\">\n",
              "  <button class=\"colab-df-quickchart\" onclick=\"quickchart('df-e587f3b2-d301-4879-8095-22ed28239088')\"\n",
              "            title=\"Suggest charts.\"\n",
              "            style=\"display:none;\">\n",
              "\n",
              "<svg xmlns=\"http://www.w3.org/2000/svg\" height=\"24px\"viewBox=\"0 0 24 24\"\n",
              "     width=\"24px\">\n",
              "    <g>\n",
              "        <path d=\"M19 3H5c-1.1 0-2 .9-2 2v14c0 1.1.9 2 2 2h14c1.1 0 2-.9 2-2V5c0-1.1-.9-2-2-2zM9 17H7v-7h2v7zm4 0h-2V7h2v10zm4 0h-2v-4h2v4z\"/>\n",
              "    </g>\n",
              "</svg>\n",
              "  </button>\n",
              "\n",
              "<style>\n",
              "  .colab-df-quickchart {\n",
              "    background-color: #E8F0FE;\n",
              "    border: none;\n",
              "    border-radius: 50%;\n",
              "    cursor: pointer;\n",
              "    display: none;\n",
              "    fill: #1967D2;\n",
              "    height: 32px;\n",
              "    padding: 0 0 0 0;\n",
              "    width: 32px;\n",
              "  }\n",
              "\n",
              "  .colab-df-quickchart:hover {\n",
              "    background-color: #E2EBFA;\n",
              "    box-shadow: 0px 1px 2px rgba(60, 64, 67, 0.3), 0px 1px 3px 1px rgba(60, 64, 67, 0.15);\n",
              "    fill: #174EA6;\n",
              "  }\n",
              "\n",
              "  [theme=dark] .colab-df-quickchart {\n",
              "    background-color: #3B4455;\n",
              "    fill: #D2E3FC;\n",
              "  }\n",
              "\n",
              "  [theme=dark] .colab-df-quickchart:hover {\n",
              "    background-color: #434B5C;\n",
              "    box-shadow: 0px 1px 3px 1px rgba(0, 0, 0, 0.15);\n",
              "    filter: drop-shadow(0px 1px 2px rgba(0, 0, 0, 0.3));\n",
              "    fill: #FFFFFF;\n",
              "  }\n",
              "</style>\n",
              "\n",
              "  <script>\n",
              "    async function quickchart(key) {\n",
              "      const charts = await google.colab.kernel.invokeFunction(\n",
              "          'suggestCharts', [key], {});\n",
              "    }\n",
              "    (() => {\n",
              "      let quickchartButtonEl =\n",
              "        document.querySelector('#df-e587f3b2-d301-4879-8095-22ed28239088 button');\n",
              "      quickchartButtonEl.style.display =\n",
              "        google.colab.kernel.accessAllowed ? 'block' : 'none';\n",
              "    })();\n",
              "  </script>\n",
              "</div>\n",
              "    </div>\n",
              "  </div>\n"
            ]
          },
          "metadata": {},
          "execution_count": 16
        }
      ]
    },
    {
      "cell_type": "code",
      "source": [
        "train_data_mini = train_data[:5000]\n",
        "val_data_mini = val_data[:400]\n",
        "test_data_mini = test_data[:800]"
      ],
      "metadata": {
        "id": "N7fVswfduBX9"
      },
      "execution_count": null,
      "outputs": []
    },
    {
      "cell_type": "code",
      "source": [
        "train_mini = text_selector(train_data_mini)\n",
        "val_mini = text_selector(val_data_mini)\n",
        "test_mini = text_selector(test_data_mini)"
      ],
      "metadata": {
        "id": "7VZ1K2TA2xza"
      },
      "execution_count": null,
      "outputs": []
    },
    {
      "cell_type": "code",
      "source": [
        "train_data_mini_clean = clean_text(train_mini)\n",
        "val_data_mini_clean = clean_text(val_mini)\n",
        "test_data_mini_clean = clean_text(test_mini)"
      ],
      "metadata": {
        "id": "IpI4R5Xkxrv_"
      },
      "execution_count": null,
      "outputs": []
    },
    {
      "cell_type": "markdown",
      "source": [
        "# N-Gram Model:"
      ],
      "metadata": {
        "id": "VG5dQdxv1rL0"
      }
    },
    {
      "cell_type": "code",
      "source": [
        "\"\"\"\n",
        "N-Gram:  * P(wi|wi−1,wi−2,…,wi−n+1)\n",
        "\"\"\"\n",
        "\n",
        "trigrams = [([train_data_mini_clean[i], train_data_mini_clean[i + 1]], train_data_mini_clean[i + 2])\n",
        "            for i in range(len(train_data_mini_clean) - 2)]\n",
        "chunk_len=len(trigrams)\n",
        "print(trigrams[:3])"
      ],
      "metadata": {
        "id": "Pp5ERhP2wCl2",
        "colab": {
          "base_uri": "https://localhost:8080/"
        },
        "outputId": "57444243-28e3-4e3d-fa79-9d7f58348f75"
      },
      "execution_count": null,
      "outputs": [
        {
          "output_type": "stream",
          "name": "stdout",
          "text": [
            "[(['negative', 'ahh'], 'closed'), (['ahh', 'closed'], 'positive'), (['closed', 'positive'], 'awesome')]\n"
          ]
        }
      ]
    },
    {
      "cell_type": "markdown",
      "source": [
        "# Training:"
      ],
      "metadata": {
        "id": "8Hh8_Tjezk9F"
      }
    },
    {
      "cell_type": "code",
      "source": [
        "vocab = set(train_data_mini_clean)\n",
        "voc_len=len(vocab)\n",
        "word_to_ix = {word: i for i, word in enumerate(vocab)}"
      ],
      "metadata": {
        "id": "vFLQkqW5-_Pp"
      },
      "execution_count": null,
      "outputs": []
    },
    {
      "cell_type": "code",
      "source": [
        "inp=[]\n",
        "tar=[]\n",
        "for context, target in trigrams:\n",
        "        context_idxs = torch.tensor([word_to_ix[w] for w in context], dtype=torch.long)\n",
        "        inp.append(context_idxs)\n",
        "        targ = torch.tensor([word_to_ix[target]], dtype=torch.long)\n",
        "        tar.append(targ)"
      ],
      "metadata": {
        "id": "5tzYPFNQ-__N"
      },
      "execution_count": null,
      "outputs": []
    },
    {
      "cell_type": "code",
      "source": [
        "%%time\n",
        "'''\n",
        "n_epochs = 300\n",
        "print_every = 100\n",
        "plot_every = 10\n",
        "hidden_size = 100\n",
        "n_layers = 1\n",
        "lr = 0.015\n",
        "'''\n",
        "\n",
        "n_epochs = 50\n",
        "print_every = 10\n",
        "plot_every = 10\n",
        "hidden_size = 50\n",
        "n_layers = 1\n",
        "lr = 0.015\n",
        "\n",
        "decoder = RNN(voc_len, hidden_size, voc_len, n_layers)\n",
        "decoder_optimizer = torch.optim.Adam(decoder.parameters(), lr=lr)\n",
        "criterion = nn.CrossEntropyLoss()\n",
        "\n",
        "start = time.time()\n",
        "all_losses = []\n",
        "loss_avg = 0\n",
        "if(train_on_gpu):\n",
        "    decoder.cuda()\n",
        "for epoch in range(1, n_epochs + 1):\n",
        "    loss = train(inp,tar)\n",
        "    loss_avg += loss\n",
        "\n",
        "    if epoch % print_every == 0:\n",
        "        print('[%s (%d %d%%) %.4f]' % (time_since(start), epoch, epoch / n_epochs * 50, loss))\n",
        "        #print(evaluate('ge', 200), '\\n')\n",
        "\n",
        "    if epoch % plot_every == 0:\n",
        "        all_losses.append(loss_avg / plot_every)\n",
        "        loss_avg = 0"
      ],
      "metadata": {
        "id": "mHIHUQmn2cTd",
        "colab": {
          "base_uri": "https://localhost:8080/"
        },
        "outputId": "a1885343-61e3-4225-a723-d050cc833348"
      },
      "execution_count": null,
      "outputs": [
        {
          "output_type": "stream",
          "name": "stdout",
          "text": [
            "[5m 53s (10 10%) 7.0875]\n",
            "[11m 48s (20 20%) 6.4083]\n",
            "[17m 42s (30 30%) 5.6365]\n",
            "[23m 36s (40 40%) 4.8129]\n",
            "[29m 31s (50 50%) 4.0734]\n",
            "CPU times: user 29min 20s, sys: 3.23 s, total: 29min 23s\n",
            "Wall time: 29min 31s\n"
          ]
        }
      ]
    },
    {
      "cell_type": "code",
      "source": [
        "print(voc_len)"
      ],
      "metadata": {
        "colab": {
          "base_uri": "https://localhost:8080/"
        },
        "id": "lYGklLc4iCx_",
        "outputId": "fcda3a12-1c8e-4df0-cf27-7c12e9be926d"
      },
      "execution_count": null,
      "outputs": [
        {
          "output_type": "stream",
          "name": "stdout",
          "text": [
            "8054\n"
          ]
        }
      ]
    },
    {
      "cell_type": "code",
      "source": [
        "%matplotlib inline\n",
        "\n",
        "plt.figure()\n",
        "plt.plot(all_losses)"
      ],
      "metadata": {
        "id": "EBdwSijg2tyi",
        "colab": {
          "base_uri": "https://localhost:8080/",
          "height": 450
        },
        "outputId": "169e57e5-d3cb-4e36-95c5-328522e046e0"
      },
      "execution_count": null,
      "outputs": [
        {
          "output_type": "execute_result",
          "data": {
            "text/plain": [
              "[<matplotlib.lines.Line2D at 0x7fae41bfecb0>]"
            ]
          },
          "metadata": {},
          "execution_count": 25
        },
        {
          "output_type": "display_data",
          "data": {
            "text/plain": [
              "<Figure size 640x480 with 1 Axes>"
            ],
            "image/png": "[encoded data removed]"
          },
          "metadata": {}
        }
      ]
    },
    {
      "cell_type": "markdown",
      "source": [
        "# Saving the model\n",
        "source: https://pytorch.org/tutorials/beginner/saving_loading_models.html"
      ],
      "metadata": {
        "id": "N660SB3yPS8T"
      }
    },
    {
      "cell_type": "code",
      "source": [
        "\"\"\"\n",
        "# Assuming 'model' is your PyTorch model\n",
        "torch.save(model.state_dict(), 'model_state_dict.pth')\n",
        "model = YourModelClass(*args, **kwargs)\n",
        "model.load_state_dict(torch.load('model_state_dict.pth'))\n",
        "\n",
        "\"\"\""
      ],
      "metadata": {
        "id": "Zws2ylWeVFvJ"
      },
      "execution_count": null,
      "outputs": []
    },
    {
      "cell_type": "code",
      "source": [
        "# Save model parameters to a file\n",
        "# torch.save(decoder.state_dict(), 'RNN-GRU_weights.pth')"
      ],
      "metadata": {
        "id": "pUUURUrFpJR0"
      },
      "execution_count": null,
      "outputs": []
    },
    {
      "cell_type": "code",
      "source": [
        "# ! cp /content/RNN-GRU_weights.pth /content/drive/MyDrive/NMA_DL.Project-ZMSP/Code/Text_Generation_N-Gram_RNN"
      ],
      "metadata": {
        "id": "P8QQpny2cVwW"
      },
      "execution_count": null,
      "outputs": []
    },
    {
      "cell_type": "code",
      "source": [
        "# Save model parameters to a file\n",
        "torch.save({'model_state_dict':decoder.state_dict(), 'oprimizaer_state_dict()':decoder_optimizer.state_dict(), 'hyperparameters':{'input_size':voc_len, 'hidden_size':hidden_size, 'output_size':voc_len, 'n_layers':n_layers}, 'training_history': all_losses}, 'chechpoint.pth')"
      ],
      "metadata": {
        "id": "y9rJjblaTfK9"
      },
      "execution_count": null,
      "outputs": []
    },
    {
      "cell_type": "code",
      "source": [
        "! cp /content/chechpoint.pth /content/drive/MyDrive/NMA_DL.Project-ZMSP/Code/Text_Generation_N-Gram_RNN"
      ],
      "metadata": {
        "id": "DSSdyqTFpaFE"
      },
      "execution_count": null,
      "outputs": []
    },
    {
      "cell_type": "markdown",
      "source": [
        "# Generaring Text:"
      ],
      "metadata": {
        "id": "s6xU3_U527rw"
      }
    },
    {
      "cell_type": "code",
      "source": [
        "initi = input(\"please enter the first word you're going to generate a tweet starting with them:  \")\n",
        "senti = input(\"please enter the sentiment of tweet to generate:  \")\n",
        "starter = senti + ' '+ initi\n",
        "num = int(input(\"please enter the length of the tweet you want to generate:  \"))"
      ],
      "metadata": {
        "id": "0ChRrQLv3HR4",
        "colab": {
          "base_uri": "https://localhost:8080/"
        },
        "outputId": "814b1369-73a7-44d3-e45d-d0198ec0ac80"
      },
      "execution_count": null,
      "outputs": [
        {
          "name": "stdout",
          "output_type": "stream",
          "text": [
            "please enter the first word you're going to generate a tweet starting with them:  negative\n",
            "please enter the sentiment of tweet to generate:  ahh\n",
            "please enter the length of the tweet you want to generate:  3\n"
          ]
        }
      ]
    },
    {
      "cell_type": "code",
      "source": [],
      "metadata": {
        "id": "JJQgeUf85nwe"
      },
      "execution_count": null,
      "outputs": []
    }
  ]
}